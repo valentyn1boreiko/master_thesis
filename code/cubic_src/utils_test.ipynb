{
 "cells": [
  {
   "cell_type": "code",
   "execution_count": 50,
   "metadata": {
    "pycharm": {
     "is_executing": false,
     "name": "#%%\n"
    }
   },
   "outputs": [],
   "source": [
    "import scipy.linalg as la\n",
    "\n",
    "def flatten_tensor_list(tensors):\n",
    "    flattened = []\n",
    "    for tensor in tensors:\n",
    "        # Changed view to reshape\n",
    "        flattened.append(tensor.reshape(-1))\n",
    "    return torch.cat(flattened, 0)\n",
    "\n",
    "def get_eigen(H_bmm, matrix=None, maxIter=10., tol=1e-3, method='lanczos'):\n",
    "    \"\"\"\n",
    "    compute the top eigenvalues of model parameters and\n",
    "    the corresponding eigenvectors.\n",
    "    \"\"\"\n",
    "    # change the model to evaluation mode, otherwise the batch Normalization Layer will change.\n",
    "    # If you call this function during training, remember to change the mode back to training mode.\n",
    "    params = None\n",
    "    if params:\n",
    "        q = flatten_tensor_list([torch.randn(p.size(), device=p.device) for p in params])\n",
    "    else:\n",
    "        q = torch.randn(matrix.size()[0])\n",
    "\n",
    "    q = q / torch.norm(q)\n",
    "\n",
    "    eigenvalue = None\n",
    "\n",
    "    if method == 'power':\n",
    "        # Power iteration\n",
    "        for _ in range(maxIter):\n",
    "            Hv = H_bmm(q)\n",
    "            eigenvalue_tmp = torch.dot(Hv, q)\n",
    "            Hv_norm = torch.norm(Hv)\n",
    "            if Hv_norm == 0:\n",
    "                break\n",
    "            q = Hv / Hv_norm\n",
    "            if eigenvalue is None:\n",
    "                eigenvalue = eigenvalue_tmp\n",
    "            else:\n",
    "                if abs(eigenvalue - eigenvalue_tmp) / abs(eigenvalue) < tol:\n",
    "                    return eigenvalue_tmp, q\n",
    "                else:\n",
    "                    eigenvalue = eigenvalue_tmp\n",
    "        return eigenvalue, q\n",
    "\n",
    "    elif method == 'lanczos':\n",
    "        # Lanczos iteration\n",
    "        b = 0\n",
    "        if params:\n",
    "            q_last = flatten_tensor_list([torch.zeros(p.size(), device=p.device) for p in params])\n",
    "        else:\n",
    "            q_last = torch.zeros(matrix.size()[0])\n",
    "        q_s = [q_last]\n",
    "        a_s = []\n",
    "        b_s = []\n",
    "        for _ in range(maxIter):\n",
    "            Hv = H_bmm(q)\n",
    "            a = torch.dot(Hv, q)\n",
    "            Hv -= (b * q_last + a * q)\n",
    "            q_last = q\n",
    "            q_s.append(q_last)\n",
    "            b = torch.norm(Hv)\n",
    "            a_s.append(a)\n",
    "            b_s.append(b)\n",
    "            if b == 0:\n",
    "                break\n",
    "            q = Hv / b\n",
    "        eigs, _ = la.eigh_tridiagonal(a_s, b_s[:-1])\n",
    "\n",
    "        return eigs"
   ]
  },
  {
   "cell_type": "code",
   "execution_count": 51,
   "metadata": {
    "pycharm": {
     "is_executing": false,
     "name": "#%%\n"
    }
   },
   "outputs": [
    {
     "name": "stdout",
     "output_type": "stream",
     "text": [
      "Requirement already satisfied: torch in /Library/Frameworks/Python.framework/Versions/3.7/lib/python3.7/site-packages (1.5.0)\n",
      "Requirement already satisfied: numpy in /Library/Frameworks/Python.framework/Versions/3.7/lib/python3.7/site-packages (from torch) (1.18.2)\n",
      "Requirement already satisfied: future in /Library/Frameworks/Python.framework/Versions/3.7/lib/python3.7/site-packages (from torch) (0.18.2)\n",
      "\u001b[33mWARNING: You are using pip version 20.1; however, version 20.1.1 is available.\n",
      "You should consider upgrading via the '/Library/Frameworks/Python.framework/Versions/3.7/bin/python3.7 -m pip install --upgrade pip' command.\u001b[0m\n"
     ]
    }
   ],
   "source": [
    "import sys\n",
    "!{sys.executable} -m pip install torch"
   ]
  },
  {
   "cell_type": "code",
   "execution_count": 23,
   "metadata": {},
   "outputs": [],
   "source": [
    "import torch \n",
    "import numpy as np\n",
    "from scipy.stats import ortho_group"
   ]
  },
  {
   "cell_type": "code",
   "execution_count": 61,
   "metadata": {},
   "outputs": [],
   "source": [
    "mat = torch.rand((1000, 1000))*10\n",
    "mat = mat.t() @ mat - 100 * torch.eye(mat.size()[0])"
   ]
  },
  {
   "cell_type": "code",
   "execution_count": 83,
   "metadata": {},
   "outputs": [],
   "source": [
    "mat = ortho_group.rvs(dim=200)\n",
    "mat = mat @ np.diag(np.arange(200)+1) @ mat.T\n",
    "mat = torch.from_numpy(mat).float()\n",
    "mat = mat - 100 * torch.eye(mat.size()[0])"
   ]
  },
  {
   "cell_type": "code",
   "execution_count": 91,
   "metadata": {},
   "outputs": [],
   "source": [
    "max_eigen = torch.max(torch.symeig(mat)[0])\n",
    "min_eigen = torch.min(torch.symeig(mat)[0])"
   ]
  },
  {
   "cell_type": "code",
   "execution_count": 92,
   "metadata": {
    "pycharm": {
     "is_executing": false
    }
   },
   "outputs": [],
   "source": [
    "errors_lan = []\n",
    "errors_power = []\n",
    "steps = [2**i for i in range(1, 8)]\n",
    "for step in steps:\n",
    "    errors_power.append(abs(min_eigen -\n",
    "                            get_eigen(lambda x: mat @ x, matrix = mat,\n",
    "                                  maxIter = step, method = 'power')[0]\n",
    "                            )\n",
    "                        )\n",
    "    errors_lan.append(abs(min_eigen - \n",
    "                          get_eigen(lambda x: mat @ x, matrix = mat,\n",
    "                                maxIter = step)[0]\n",
    "                          )\n",
    "                      )"
   ]
  },
  {
   "cell_type": "code",
   "execution_count": 88,
   "metadata": {},
   "outputs": [
    {
     "data": {
      "text/plain": [
       "-99.0"
      ]
     },
     "execution_count": 88,
     "metadata": {},
     "output_type": "execute_result"
    }
   ],
   "source": [
    "get_eigen(lambda x: mat @ x, matrix = mat,\n",
    "                                maxIter = step)[0]"
   ]
  },
  {
   "cell_type": "code",
   "execution_count": 90,
   "metadata": {},
   "outputs": [
    {
     "data": {
      "text/plain": [
       "torch.return_types.symeig(\n",
       "eigenvalues=tensor([-9.89999618530273437500e+01, -9.79999847412109375000e+01,\n",
       "        -9.69999694824218750000e+01, -9.59999694824218750000e+01,\n",
       "        -9.49999694824218750000e+01, -9.39999923706054687500e+01,\n",
       "        -9.29999618530273437500e+01, -9.20000000000000000000e+01,\n",
       "        -9.09999923706054687500e+01, -8.99999923706054687500e+01,\n",
       "        -8.90000000000000000000e+01, -8.79999923706054687500e+01,\n",
       "        -8.69999694824218750000e+01, -8.60000076293945312500e+01,\n",
       "        -8.50000000000000000000e+01, -8.39999771118164062500e+01,\n",
       "        -8.30000152587890625000e+01, -8.20000686645507812500e+01,\n",
       "        -8.09999923706054687500e+01, -7.99999847412109375000e+01,\n",
       "        -7.89999923706054687500e+01, -7.80000000000000000000e+01,\n",
       "        -7.70000000000000000000e+01, -7.59999847412109375000e+01,\n",
       "        -7.50000076293945312500e+01, -7.39999923706054687500e+01,\n",
       "        -7.30000076293945312500e+01, -7.20000000000000000000e+01,\n",
       "        -7.10000076293945312500e+01, -6.99999923706054687500e+01,\n",
       "        -6.90000076293945312500e+01, -6.80000076293945312500e+01,\n",
       "        -6.70000228881835937500e+01, -6.60000000000000000000e+01,\n",
       "        -6.50000076293945312500e+01, -6.39999847412109375000e+01,\n",
       "        -6.29999923706054687500e+01, -6.20000000000000000000e+01,\n",
       "        -6.10000000000000000000e+01, -6.00000000000000000000e+01,\n",
       "        -5.90000114440917968750e+01, -5.80000038146972656250e+01,\n",
       "        -5.70000000000000000000e+01, -5.60000038146972656250e+01,\n",
       "        -5.50000000000000000000e+01, -5.40000038146972656250e+01,\n",
       "        -5.30000038146972656250e+01, -5.19999961853027343750e+01,\n",
       "        -5.09999923706054687500e+01, -5.00000038146972656250e+01,\n",
       "        -4.89999923706054687500e+01, -4.79999961853027343750e+01,\n",
       "        -4.70000000000000000000e+01, -4.59999923706054687500e+01,\n",
       "        -4.50000076293945312500e+01, -4.40000114440917968750e+01,\n",
       "        -4.30000076293945312500e+01, -4.20000000000000000000e+01,\n",
       "        -4.09999961853027343750e+01, -4.00000114440917968750e+01,\n",
       "        -3.90000000000000000000e+01, -3.79999809265136718750e+01,\n",
       "        -3.69999923706054687500e+01, -3.59999885559082031250e+01,\n",
       "        -3.49999923706054687500e+01, -3.39999923706054687500e+01,\n",
       "        -3.29999771118164062500e+01, -3.19999866485595703125e+01,\n",
       "        -3.09999923706054687500e+01, -2.99999961853027343750e+01,\n",
       "        -2.89999923706054687500e+01, -2.80000000000000000000e+01,\n",
       "        -2.70000000000000000000e+01, -2.59999866485595703125e+01,\n",
       "        -2.50000114440917968750e+01, -2.39999542236328125000e+01,\n",
       "        -2.29999885559082031250e+01, -2.19999771118164062500e+01,\n",
       "        -2.10000076293945312500e+01, -2.00000057220458984375e+01,\n",
       "        -1.90000038146972656250e+01, -1.80000286102294921875e+01,\n",
       "        -1.69999866485595703125e+01, -1.60000057220458984375e+01,\n",
       "        -1.49999790191650390625e+01, -1.40000009536743164062e+01,\n",
       "        -1.29999971389770507812e+01, -1.19999990463256835938e+01,\n",
       "        -1.10000181198120117188e+01, -1.00000009536743164062e+01,\n",
       "        -8.99997138977050781250e+00, -7.99998998641967773438e+00,\n",
       "        -6.99999046325683593750e+00, -6.00000858306884765625e+00,\n",
       "        -4.99998474121093750000e+00, -3.99998855590820312500e+00,\n",
       "        -2.99998855590820312500e+00, -2.00001645088195800781e+00,\n",
       "        -9.99997258186340332031e-01,  1.27401390273007564247e-05,\n",
       "         9.99982714653015136719e-01,  1.99999558925628662109e+00,\n",
       "         3.00000405311584472656e+00,  4.00000858306884765625e+00,\n",
       "         4.99998044967651367188e+00,  6.00002193450927734375e+00,\n",
       "         7.00002002716064453125e+00,  8.00004577636718750000e+00,\n",
       "         8.99999332427978515625e+00,  9.99999427795410156250e+00,\n",
       "         1.09999790191650390625e+01,  1.19999885559082031250e+01,\n",
       "         1.29999980926513671875e+01,  1.39999952316284179688e+01,\n",
       "         1.49999990463256835938e+01,  1.60000152587890625000e+01,\n",
       "         1.69999809265136718750e+01,  1.79999980926513671875e+01,\n",
       "         1.90000019073486328125e+01,  1.99999847412109375000e+01,\n",
       "         2.09999866485595703125e+01,  2.19999561309814453125e+01,\n",
       "         2.29999942779541015625e+01,  2.40000000000000000000e+01,\n",
       "         2.50000095367431640625e+01,  2.60000095367431640625e+01,\n",
       "         2.69999961853027343750e+01,  2.80000076293945312500e+01,\n",
       "         2.89999866485595703125e+01,  3.00000019073486328125e+01,\n",
       "         3.09999942779541015625e+01,  3.20000076293945312500e+01,\n",
       "         3.30000000000000000000e+01,  3.40000076293945312500e+01,\n",
       "         3.50000114440917968750e+01,  3.60000228881835937500e+01,\n",
       "         3.70000190734863281250e+01,  3.79999923706054687500e+01,\n",
       "         3.90000267028808593750e+01,  4.00000038146972656250e+01,\n",
       "         4.09999885559082031250e+01,  4.19999961853027343750e+01,\n",
       "         4.30000152587890625000e+01,  4.39999961853027343750e+01,\n",
       "         4.50000152587890625000e+01,  4.60000114440917968750e+01,\n",
       "         4.69999771118164062500e+01,  4.79999809265136718750e+01,\n",
       "         4.90000038146972656250e+01,  5.00000000000000000000e+01,\n",
       "         5.10000152587890625000e+01,  5.19999923706054687500e+01,\n",
       "         5.29999809265136718750e+01,  5.40000228881835937500e+01,\n",
       "         5.49999160766601562500e+01,  5.60000000000000000000e+01,\n",
       "         5.69999923706054687500e+01,  5.80000000000000000000e+01,\n",
       "         5.90000305175781250000e+01,  6.00000228881835937500e+01,\n",
       "         6.10000000000000000000e+01,  6.19999885559082031250e+01,\n",
       "         6.29999885559082031250e+01,  6.39999771118164062500e+01,\n",
       "         6.49999923706054687500e+01,  6.59999923706054687500e+01,\n",
       "         6.70000076293945312500e+01,  6.79999847412109375000e+01,\n",
       "         6.89999923706054687500e+01,  7.00000152587890625000e+01,\n",
       "         7.09999694824218750000e+01,  7.19999923706054687500e+01,\n",
       "         7.30000228881835937500e+01,  7.40000076293945312500e+01,\n",
       "         7.49999923706054687500e+01,  7.59999847412109375000e+01,\n",
       "         7.70000228881835937500e+01,  7.79999923706054687500e+01,\n",
       "         7.89999847412109375000e+01,  7.99999923706054687500e+01,\n",
       "         8.09999847412109375000e+01,  8.19999923706054687500e+01,\n",
       "         8.29999847412109375000e+01,  8.40000228881835937500e+01,\n",
       "         8.49999771118164062500e+01,  8.59999923706054687500e+01,\n",
       "         8.70000076293945312500e+01,  8.80000000000000000000e+01,\n",
       "         8.90000228881835937500e+01,  8.99999923706054687500e+01,\n",
       "         9.10000000000000000000e+01,  9.20000381469726562500e+01,\n",
       "         9.29999847412109375000e+01,  9.40000152587890625000e+01,\n",
       "         9.50000381469726562500e+01,  9.59999694824218750000e+01,\n",
       "         9.70000152587890625000e+01,  9.80000076293945312500e+01,\n",
       "         9.90000076293945312500e+01,  1.00000007629394531250e+02]),\n",
       "eigenvectors=tensor([]))"
      ]
     },
     "execution_count": 90,
     "metadata": {},
     "output_type": "execute_result"
    }
   ],
   "source": [
    "torch.symeig(mat)"
   ]
  },
  {
   "cell_type": "code",
   "execution_count": 87,
   "metadata": {},
   "outputs": [
    {
     "data": {
      "text/plain": [
       "torch.return_types.symeig(\n",
       "eigenvalues=tensor([-9.89999618530273437500e+01, -9.79999847412109375000e+01,\n",
       "        -9.69999694824218750000e+01, -9.59999694824218750000e+01,\n",
       "        -9.49999694824218750000e+01, -9.39999923706054687500e+01,\n",
       "        -9.29999618530273437500e+01, -9.20000000000000000000e+01,\n",
       "        -9.09999923706054687500e+01, -8.99999923706054687500e+01,\n",
       "        -8.90000000000000000000e+01, -8.79999923706054687500e+01,\n",
       "        -8.69999694824218750000e+01, -8.60000076293945312500e+01,\n",
       "        -8.50000000000000000000e+01, -8.39999771118164062500e+01,\n",
       "        -8.30000152587890625000e+01, -8.20000686645507812500e+01,\n",
       "        -8.09999923706054687500e+01, -7.99999847412109375000e+01,\n",
       "        -7.89999923706054687500e+01, -7.80000000000000000000e+01,\n",
       "        -7.70000000000000000000e+01, -7.59999847412109375000e+01,\n",
       "        -7.50000076293945312500e+01, -7.39999923706054687500e+01,\n",
       "        -7.30000076293945312500e+01, -7.20000000000000000000e+01,\n",
       "        -7.10000076293945312500e+01, -6.99999923706054687500e+01,\n",
       "        -6.90000076293945312500e+01, -6.80000076293945312500e+01,\n",
       "        -6.70000228881835937500e+01, -6.60000000000000000000e+01,\n",
       "        -6.50000076293945312500e+01, -6.39999847412109375000e+01,\n",
       "        -6.29999923706054687500e+01, -6.20000000000000000000e+01,\n",
       "        -6.10000000000000000000e+01, -6.00000000000000000000e+01,\n",
       "        -5.90000114440917968750e+01, -5.80000038146972656250e+01,\n",
       "        -5.70000000000000000000e+01, -5.60000038146972656250e+01,\n",
       "        -5.50000000000000000000e+01, -5.40000038146972656250e+01,\n",
       "        -5.30000038146972656250e+01, -5.19999961853027343750e+01,\n",
       "        -5.09999923706054687500e+01, -5.00000038146972656250e+01,\n",
       "        -4.89999923706054687500e+01, -4.79999961853027343750e+01,\n",
       "        -4.70000000000000000000e+01, -4.59999923706054687500e+01,\n",
       "        -4.50000076293945312500e+01, -4.40000114440917968750e+01,\n",
       "        -4.30000076293945312500e+01, -4.20000000000000000000e+01,\n",
       "        -4.09999961853027343750e+01, -4.00000114440917968750e+01,\n",
       "        -3.90000000000000000000e+01, -3.79999809265136718750e+01,\n",
       "        -3.69999923706054687500e+01, -3.59999885559082031250e+01,\n",
       "        -3.49999923706054687500e+01, -3.39999923706054687500e+01,\n",
       "        -3.29999771118164062500e+01, -3.19999866485595703125e+01,\n",
       "        -3.09999923706054687500e+01, -2.99999961853027343750e+01,\n",
       "        -2.89999923706054687500e+01, -2.80000000000000000000e+01,\n",
       "        -2.70000000000000000000e+01, -2.59999866485595703125e+01,\n",
       "        -2.50000114440917968750e+01, -2.39999542236328125000e+01,\n",
       "        -2.29999885559082031250e+01, -2.19999771118164062500e+01,\n",
       "        -2.10000076293945312500e+01, -2.00000057220458984375e+01,\n",
       "        -1.90000038146972656250e+01, -1.80000286102294921875e+01,\n",
       "        -1.69999866485595703125e+01, -1.60000057220458984375e+01,\n",
       "        -1.49999790191650390625e+01, -1.40000009536743164062e+01,\n",
       "        -1.29999971389770507812e+01, -1.19999990463256835938e+01,\n",
       "        -1.10000181198120117188e+01, -1.00000009536743164062e+01,\n",
       "        -8.99997138977050781250e+00, -7.99998998641967773438e+00,\n",
       "        -6.99999046325683593750e+00, -6.00000858306884765625e+00,\n",
       "        -4.99998474121093750000e+00, -3.99998855590820312500e+00,\n",
       "        -2.99998855590820312500e+00, -2.00001645088195800781e+00,\n",
       "        -9.99997258186340332031e-01,  1.27401390273007564247e-05,\n",
       "         9.99982714653015136719e-01,  1.99999558925628662109e+00,\n",
       "         3.00000405311584472656e+00,  4.00000858306884765625e+00,\n",
       "         4.99998044967651367188e+00,  6.00002193450927734375e+00,\n",
       "         7.00002002716064453125e+00,  8.00004577636718750000e+00,\n",
       "         8.99999332427978515625e+00,  9.99999427795410156250e+00,\n",
       "         1.09999790191650390625e+01,  1.19999885559082031250e+01,\n",
       "         1.29999980926513671875e+01,  1.39999952316284179688e+01,\n",
       "         1.49999990463256835938e+01,  1.60000152587890625000e+01,\n",
       "         1.69999809265136718750e+01,  1.79999980926513671875e+01,\n",
       "         1.90000019073486328125e+01,  1.99999847412109375000e+01,\n",
       "         2.09999866485595703125e+01,  2.19999561309814453125e+01,\n",
       "         2.29999942779541015625e+01,  2.40000000000000000000e+01,\n",
       "         2.50000095367431640625e+01,  2.60000095367431640625e+01,\n",
       "         2.69999961853027343750e+01,  2.80000076293945312500e+01,\n",
       "         2.89999866485595703125e+01,  3.00000019073486328125e+01,\n",
       "         3.09999942779541015625e+01,  3.20000076293945312500e+01,\n",
       "         3.30000000000000000000e+01,  3.40000076293945312500e+01,\n",
       "         3.50000114440917968750e+01,  3.60000228881835937500e+01,\n",
       "         3.70000190734863281250e+01,  3.79999923706054687500e+01,\n",
       "         3.90000267028808593750e+01,  4.00000038146972656250e+01,\n",
       "         4.09999885559082031250e+01,  4.19999961853027343750e+01,\n",
       "         4.30000152587890625000e+01,  4.39999961853027343750e+01,\n",
       "         4.50000152587890625000e+01,  4.60000114440917968750e+01,\n",
       "         4.69999771118164062500e+01,  4.79999809265136718750e+01,\n",
       "         4.90000038146972656250e+01,  5.00000000000000000000e+01,\n",
       "         5.10000152587890625000e+01,  5.19999923706054687500e+01,\n",
       "         5.29999809265136718750e+01,  5.40000228881835937500e+01,\n",
       "         5.49999160766601562500e+01,  5.60000000000000000000e+01,\n",
       "         5.69999923706054687500e+01,  5.80000000000000000000e+01,\n",
       "         5.90000305175781250000e+01,  6.00000228881835937500e+01,\n",
       "         6.10000000000000000000e+01,  6.19999885559082031250e+01,\n",
       "         6.29999885559082031250e+01,  6.39999771118164062500e+01,\n",
       "         6.49999923706054687500e+01,  6.59999923706054687500e+01,\n",
       "         6.70000076293945312500e+01,  6.79999847412109375000e+01,\n",
       "         6.89999923706054687500e+01,  7.00000152587890625000e+01,\n",
       "         7.09999694824218750000e+01,  7.19999923706054687500e+01,\n",
       "         7.30000228881835937500e+01,  7.40000076293945312500e+01,\n",
       "         7.49999923706054687500e+01,  7.59999847412109375000e+01,\n",
       "         7.70000228881835937500e+01,  7.79999923706054687500e+01,\n",
       "         7.89999847412109375000e+01,  7.99999923706054687500e+01,\n",
       "         8.09999847412109375000e+01,  8.19999923706054687500e+01,\n",
       "         8.29999847412109375000e+01,  8.40000228881835937500e+01,\n",
       "         8.49999771118164062500e+01,  8.59999923706054687500e+01,\n",
       "         8.70000076293945312500e+01,  8.80000000000000000000e+01,\n",
       "         8.90000228881835937500e+01,  8.99999923706054687500e+01,\n",
       "         9.10000000000000000000e+01,  9.20000381469726562500e+01,\n",
       "         9.29999847412109375000e+01,  9.40000152587890625000e+01,\n",
       "         9.50000381469726562500e+01,  9.59999694824218750000e+01,\n",
       "         9.70000152587890625000e+01,  9.80000076293945312500e+01,\n",
       "         9.90000076293945312500e+01,  1.00000007629394531250e+02]),\n",
       "eigenvectors=tensor([]))"
      ]
     },
     "execution_count": 87,
     "metadata": {},
     "output_type": "execute_result"
    }
   ],
   "source": [
    "torch.symeig(mat)"
   ]
  },
  {
   "cell_type": "code",
   "execution_count": 85,
   "metadata": {},
   "outputs": [
    {
     "data": {
      "text/plain": [
       "array([-99.        , -99.        , -98.        , -97.99998   ,\n",
       "       -97.        , -96.99981   , -96.        , -95.58007   ,\n",
       "       -95.        , -94.        , -93.        , -92.        ,\n",
       "       -91.        , -90.        , -89.        , -87.99994   ,\n",
       "       -86.999985  , -85.99874   , -84.7188    , -83.99191   ,\n",
       "       -82.988785  , -81.052505  , -80.15399   , -79.25011   ,\n",
       "       -78.219475  , -77.04425   , -75.13955   , -74.68771   ,\n",
       "       -72.826454  , -70.27785   , -69.41555   , -67.78214   ,\n",
       "       -65.93331   , -64.63144   , -63.053993  , -60.96007   ,\n",
       "       -59.91805   , -57.768116  , -55.16791   , -52.965942  ,\n",
       "       -51.15386   , -50.000248  , -47.660084  , -45.632984  ,\n",
       "       -43.714855  , -41.280197  , -39.72326   , -37.92805   ,\n",
       "       -34.12858   , -32.31681   , -30.180237  , -28.546173  ,\n",
       "       -26.706741  , -24.15776   , -21.732246  , -19.707779  ,\n",
       "       -16.692581  , -15.203056  , -13.074234  ,  -9.314659  ,\n",
       "        -7.792671  ,  -5.8382034 ,  -4.1763    ,  -1.070427  ,\n",
       "         0.78325653,   3.0436935 ,   5.838936  ,   8.071381  ,\n",
       "        10.985428  ,  13.6549835 ,  15.953651  ,  17.816597  ,\n",
       "        19.750214  ,  22.055382  ,  24.144722  ,  25.957481  ,\n",
       "        29.181725  ,  31.021858  ,  33.83512   ,  35.16308   ,\n",
       "        38.51861   ,  40.263206  ,  42.944023  ,  44.200935  ,\n",
       "        46.647667  ,  47.990273  ,  50.14315   ,  52.10015   ,\n",
       "        54.183662  ,  56.325996  ,  57.42782   ,  59.01606   ,\n",
       "        62.137764  ,  63.893562  ,  65.86443   ,  66.59359   ,\n",
       "        68.37682   ,  69.999     ,  71.04804   ,  73.87801   ,\n",
       "        74.72733   ,  75.9641    ,  77.02512   ,  78.16605   ,\n",
       "        79.94483   ,  81.336555  ,  82.00327   ,  83.00057   ,\n",
       "        84.85767   ,  85.999855  ,  86.999504  ,  88.00002   ,\n",
       "        89.00002   ,  89.99998   ,  90.99999   ,  91.99999   ,\n",
       "        93.00001   ,  94.00001   ,  95.00001   ,  95.99998   ,\n",
       "        96.23097   ,  97.00002   ,  97.98282   ,  97.99999   ,\n",
       "        98.999954  ,  99.        , 100.        , 100.        ],\n",
       "      dtype=float32)"
      ]
     },
     "execution_count": 85,
     "metadata": {},
     "output_type": "execute_result"
    }
   ],
   "source": [
    "get_eigen(lambda x: mat @ x, matrix = mat,\n",
    "                                maxIter = step)"
   ]
  },
  {
   "cell_type": "code",
   "execution_count": 3,
   "metadata": {
    "pycharm": {
     "is_executing": false,
     "name": "#%%\n"
    }
   },
   "outputs": [
    {
     "data": {
      "text/plain": [
       "tensor([[-0.3833, -0.6096, -1.2551,  ..., -1.4292,  2.2396,  0.9875],\n",
       "        [ 0.4110, -1.0750,  1.5191,  ..., -0.0844, -0.2742, -1.0629],\n",
       "        [-0.1033, -0.9905, -1.8115,  ..., -0.2434,  0.1381,  0.9710],\n",
       "        ...,\n",
       "        [ 0.6070,  1.4428, -0.5422,  ...,  0.0165,  1.6769, -0.0142],\n",
       "        [-0.2890, -0.2881, -1.1181,  ..., -1.5913,  0.1424, -0.1516],\n",
       "        [-0.7981, -1.5811,  2.0391,  ..., -0.8666,  0.8961,  0.3590]])"
      ]
     },
     "execution_count": 3,
     "metadata": {},
     "output_type": "execute_result"
    }
   ],
   "source": [
    "torch.randn((500, 500))"
   ]
  },
  {
   "cell_type": "code",
   "execution_count": 4,
   "metadata": {
    "pycharm": {
     "is_executing": false,
     "name": "#%%\n"
    }
   },
   "outputs": [],
   "source": [
    "torch.set_printoptions(precision=20)   "
   ]
  },
  {
   "cell_type": "code",
   "execution_count": 5,
   "metadata": {
    "pycharm": {
     "is_executing": false,
     "name": "#%%\n"
    }
   },
   "outputs": [],
   "source": [
    "eigs_all = get_eigen(lambda x: mat @ x,\n",
    "                     matrix = mat, maxIter=100)"
   ]
  },
  {
   "cell_type": "code",
   "execution_count": 6,
   "metadata": {
    "pycharm": {
     "is_executing": false,
     "name": "#%%\n"
    }
   },
   "outputs": [],
   "source": [
    "eigs_all = get_eigen(lambda x: mat @ x - 3866.7346 * torch.eye(mat.size()[0]) @ x,\n",
    "                     matrix = mat, maxIter=100)"
   ]
  },
  {
   "cell_type": "code",
   "execution_count": 7,
   "metadata": {
    "pycharm": {
     "is_executing": false,
     "name": "#%%\n"
    }
   },
   "outputs": [
    {
     "data": {
      "text/plain": [
       "12.110263"
      ]
     },
     "execution_count": 7,
     "metadata": {},
     "output_type": "execute_result"
    }
   ],
   "source": [
    "eigs_all[-1]"
   ]
  },
  {
   "cell_type": "code",
   "execution_count": 8,
   "metadata": {
    "pycharm": {
     "is_executing": false,
     "name": "#%%\n"
    }
   },
   "outputs": [
    {
     "data": {
      "text/plain": [
       "-99.75758750000023"
      ]
     },
     "execution_count": 8,
     "metadata": {},
     "output_type": "execute_result"
    }
   ],
   "source": [
    "eigs_all[0] + 3866.7346"
   ]
  },
  {
   "cell_type": "code",
   "execution_count": 9,
   "metadata": {
    "pycharm": {
     "is_executing": false,
     "name": "#%%\n"
    }
   },
   "outputs": [
    {
     "data": {
      "text/plain": [
       "tensor(3878.83569335937500000000)"
      ]
     },
     "execution_count": 9,
     "metadata": {},
     "output_type": "execute_result"
    }
   ],
   "source": [
    "max(torch.symeig(mat)[0])"
   ]
  },
  {
   "cell_type": "code",
   "execution_count": 18,
   "metadata": {},
   "outputs": [
    {
     "data": {
      "text/plain": [
       "([tensor(376.42608642578125000000),\n",
       "  tensor(114.97798919677734375000),\n",
       "  tensor(35.27083587646484375000),\n",
       "  tensor(9.41719055175781250000),\n",
       "  tensor(1.90515899658203125000),\n",
       "  tensor(0.55318450927734375000),\n",
       "  tensor(0.15904235839843750000)],\n",
       " [2, 4, 8, 16, 32, 64, 128])"
      ]
     },
     "execution_count": 18,
     "metadata": {},
     "output_type": "execute_result"
    }
   ],
   "source": [
    "errors_lan, steps"
   ]
  },
  {
   "cell_type": "code",
   "execution_count": 93,
   "metadata": {
    "pycharm": {
     "is_executing": false,
     "name": "#%%\n"
    }
   },
   "outputs": [
    {
     "data": {
      "text/plain": [
       "Text(0.5, 1.0, 'lanczos')"
      ]
     },
     "execution_count": 93,
     "metadata": {},
     "output_type": "execute_result"
    },
    {
     "data": {
      "image/png": "[encoded data removed]",
      "text/plain": [
       "<Figure size 432x288 with 2 Axes>"
      ]
     },
     "metadata": {
      "needs_background": "light"
     },
     "output_type": "display_data"
    }
   ],
   "source": [
    "import matplotlib.pyplot as plt\n",
    "\n",
    "fig = plt.figure()\n",
    "\n",
    "plt.subplot(1, 2, 1)\n",
    "plt.plot(steps, errors_power)\n",
    "plt.title('power')\n",
    "\n",
    "plt.subplot(1, 2, 2)\n",
    "plt.plot(steps, errors_lan)\n",
    "plt.title('lanczos')"
   ]
  },
  {
   "cell_type": "code",
   "execution_count": 6,
   "metadata": {
    "pycharm": {
     "is_executing": false,
     "name": "#%%\n"
    }
   },
   "outputs": [
    {
     "data": {
      "text/plain": [
       "<mpl_toolkits.mplot3d.art3d.Path3DCollection at 0x134b42e90>"
      ]
     },
     "execution_count": 6,
     "metadata": {},
     "output_type": "execute_result"
    },
    {
     "data": {
      "image/png": "[encoded data removed]",
      "text/plain": [
       "<Figure size 432x288 with 1 Axes>"
      ]
     },
     "metadata": {
      "needs_background": "light"
     },
     "output_type": "display_data"
    }
   ],
   "source": [
    "from matplotlib import pyplot as plt\n",
    "from mpl_toolkits.mplot3d import axes3d\n",
    "\n",
    "phi = torch.linspace(0, np.pi, 20)\n",
    "theta = torch.linspace(0, 2 * np.pi, 40)\n",
    "x = torch.ger(torch.sin(theta), torch.cos(phi))\n",
    "y = torch.ger(torch.sin(theta), torch.sin(phi))\n",
    "z = torch.ger(torch.cos(theta), torch.ones_like(phi))\n",
    "\n",
    "xi, yi, zi = sample_spherical(100)\n",
    "\n",
    "fig, ax = plt.subplots(1, 1, subplot_kw={'projection':'3d'})\n",
    "ax.plot_wireframe(x, y, z, color='k', rstride=1, cstride=1)\n",
    "ax.scatter(xi, yi, zi, s=100, c='r', zorder=10)\n"
   ]
  },
  {
   "cell_type": "code",
   "execution_count": 4,
   "metadata": {
    "pycharm": {
     "is_executing": false,
     "name": "#%%\n"
    }
   },
   "outputs": [],
   "source": []
  },
  {
   "cell_type": "code",
   "execution_count": null,
   "metadata": {
    "pycharm": {
     "name": "#%%\n"
    }
   },
   "outputs": [],
   "source": [
    "\n"
   ]
  }
 ],
 "metadata": {
  "kernelspec": {
   "display_name": "Python 3",
   "language": "python",
   "name": "python3"
  },
  "language_info": {
   "codemirror_mode": {
    "name": "ipython",
    "version": 3
   },
   "file_extension": ".py",
   "mimetype": "text/x-python",
   "name": "python",
   "nbconvert_exporter": "python",
   "pygments_lexer": "ipython3",
   "version": "3.7.7"
  },
  "pycharm": {
   "stem_cell": {
    "cell_type": "raw",
    "metadata": {
     "collapsed": false
    },
    "source": []
   }
  }
 },
 "nbformat": 4,
 "nbformat_minor": 4
}
